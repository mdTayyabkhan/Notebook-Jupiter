{
  "metadata": {
    "language_info": {
      "codemirror_mode": {
        "name": "python",
        "version": 3
      },
      "file_extension": ".py",
      "mimetype": "text/x-python",
      "name": "python",
      "nbconvert_exporter": "python",
      "pygments_lexer": "ipython3",
      "version": "3.8"
    },
    "kernelspec": {
      "name": "python",
      "display_name": "Pyolite",
      "language": "python"
    }
  },
  "nbformat_minor": 4,
  "nbformat": 4,
  "cells": [
    {
      "cell_type": "markdown",
      "source": "Exercise 2-\n    Create a markdown cell with the title of the notebook.",
      "metadata": {}
    },
    {
      "cell_type": "markdown",
      "source": "Title of the Notebook:\n# Data Science Tools and Ecosystem",
      "metadata": {}
    },
    {
      "cell_type": "markdown",
      "source": "Exercise 3-\n    Create a markdown cell for an introduction.",
      "metadata": {}
    },
    {
      "cell_type": "markdown",
      "source": "Introduction\n   In this Notebook Data Science Tools and Ecosystem are Summerized and Exercised",
      "metadata": {}
    },
    {
      "cell_type": "markdown",
      "source": "Exercise 4-\n    Create a markdown cell to list data science languages.",
      "metadata": {}
    },
    {
      "cell_type": "markdown",
      "source": "Data science languages are\nPython\n\nR\n\nSQL\n\nScala\n\nJava\n\nC++\n\nJulia\n\nJavaScript\n\nPHP\n\nGo\n\nRuby\n\nVisual Basic",
      "metadata": {}
    },
    {
      "cell_type": "markdown",
      "source": "Exercise 5-\n    Create a markdown cell to list data science libraries.",
      "metadata": {}
    },
    {
      "cell_type": "markdown",
      "source": "Data science libraries are \nPandas\n\nNumpy\n\nMatplotlib\n\nSeaborn\n\nScikit-learn\n\nKeras\n\nTensorFlow\n\nPyTorch\n\nApache Spark\n\nVegas\n\nBig DL\n\nGgplot2",
      "metadata": {}
    },
    {
      "cell_type": "markdown",
      "source": "Exercise 6-\n    Create a markdown cell with a table of Data Science tools",
      "metadata": {}
    },
    {
      "cell_type": "markdown",
      "source": "Tools for data science\n | Anaconda|\n |--------|\n | R Studio |\n |--------|\n | Jupiter notebook|\n |-----------------|\n | Spyder |\n |--------|\n | Zeppelin |\n |--------|",
      "metadata": {}
    },
    {
      "cell_type": "markdown",
      "source": "Exercise 7-\n    Create a markdown cell introducing arithmetic expression examples",
      "metadata": {}
    },
    {
      "cell_type": "markdown",
      "source": "Below are Example of eveluating Arthematic Expression in python\na=63\nb=59\na+b=?",
      "metadata": {}
    },
    {
      "cell_type": "markdown",
      "source": "Exercise 8-\n    Create a code cell to multiply and add numbers.",
      "metadata": {}
    },
    {
      "cell_type": "code",
      "source": "#This is an arthematic expression to multiply integers\n(6*4)+8",
      "metadata": {
        "trusted": true
      },
      "execution_count": 25,
      "outputs": [
        {
          "execution_count": 25,
          "output_type": "execute_result",
          "data": {
            "text/plain": "32"
          },
          "metadata": {}
        }
      ]
    },
    {
      "cell_type": "code",
      "source": "# This is an arthematic expression to multiply integers\n(3*59)+95",
      "metadata": {
        "trusted": true
      },
      "execution_count": 3,
      "outputs": [
        {
          "execution_count": 3,
          "output_type": "execute_result",
          "data": {
            "text/plain": "272"
          },
          "metadata": {}
        }
      ]
    },
    {
      "cell_type": "markdown",
      "source": "Exercise 9-\n    Create a code cell to convert minutes to hours.",
      "metadata": {}
    },
    {
      "cell_type": "code",
      "source": "# this will convert 600 minutes to hours by dividing with 60\nprint(\"hours\" ,600/60)",
      "metadata": {
        "trusted": true
      },
      "execution_count": 26,
      "outputs": [
        {
          "name": "stdout",
          "text": "hours 10.0\n",
          "output_type": "stream"
        }
      ]
    },
    {
      "cell_type": "markdown",
      "source": "Exercise 10-\n    Insert a markdown cell to list Objectives.",
      "metadata": {}
    },
    {
      "cell_type": "markdown",
      "source": "# Objectives",
      "metadata": {}
    },
    {
      "cell_type": "code",
      "source": "# Comment: Objectives",
      "metadata": {},
      "execution_count": null,
      "outputs": []
    },
    {
      "cell_type": "markdown",
      "source": "",
      "metadata": {}
    },
    {
      "cell_type": "markdown",
      "source": "Unordered List Example\nd\nc\ns",
      "metadata": {}
    },
    {
      "cell_type": "code",
      "source": "ordered List Example\nA\nB\nC",
      "metadata": {},
      "execution_count": null,
      "outputs": []
    },
    {
      "cell_type": "markdown",
      "source": "Exercise 11 -\n    Create a markdown cell to indicate the Author’s name.",
      "metadata": {}
    },
    {
      "cell_type": "markdown",
      "source": "Author Name\nMohammad Tayyab Khan",
      "metadata": {}
    },
    {
      "cell_type": "code",
      "source": "",
      "metadata": {},
      "execution_count": null,
      "outputs": []
    }
  ]
}